{
 "cells": [
  {
   "cell_type": "code",
   "execution_count": 4,
   "id": "7786a817-bc34-4c2e-8cb9-776ab10569ff",
   "metadata": {},
   "outputs": [
    {
     "name": "stderr",
     "output_type": "stream",
     "text": [
      "C:\\Users\\Observatory\\AppData\\Local\\Temp\\ipykernel_11068\\959425790.py:4: DeprecationWarning: `photutils.CircularAperture` is a deprecated alias for `photutils.aperture.CircularAperture` and will be removed in the future. Instead, please use `from photutils.aperture import CircularAperture` to silence this warning.\n",
      "  from photutils import CircularAperture, aperture_photometry\n",
      "C:\\Users\\Observatory\\AppData\\Local\\Temp\\ipykernel_11068\\959425790.py:4: DeprecationWarning: `photutils.aperture_photometry` is a deprecated alias for `photutils.aperture.aperture_photometry` and will be removed in the future. Instead, please use `from photutils.aperture import aperture_photometry` to silence this warning.\n",
      "  from photutils import CircularAperture, aperture_photometry\n"
     ]
    }
   ],
   "source": [
    "#aperture_photometry_test\n",
    "\n",
    "from astropy.io import fits\n",
    "from photutils import CircularAperture, aperture_photometry"
   ]
  },
  {
   "cell_type": "code",
   "execution_count": 5,
   "id": "80795ab9-70f7-4e8b-9b9b-49e1a5658e5f",
   "metadata": {},
   "outputs": [],
   "source": [
    "hdul = fits.open('C:\\\\Users\\\\Observatory\\\\Exo\\\\tut\\\\data\\\\oct-8\\\\combined\\\\light_minus_falt_onlyflat-r-2023_10_08-exp00.00.10.000-1x1_Merge_1.fit')\n",
    "data = hdul[0].data"
   ]
  },
  {
   "cell_type": "code",
   "execution_count": 6,
   "id": "86d68ccf-21f6-4353-bdba-7ba4ab294fd5",
   "metadata": {},
   "outputs": [],
   "source": [
    "# I opened my image in ds9 and placed the cursor on the center of my star. The following are the pixel coordinates on that image\n",
    "position = (926, 2968)  # Replace with the actual x and y coordinates of the target star\n",
    "aperture_radius = 20.0  # Replace with your preferred aperture radius\n",
    "aperture = CircularAperture(position, r=aperture_radius)"
   ]
  },
  {
   "cell_type": "code",
   "execution_count": 7,
   "id": "013746a0-e71a-4a5e-8b70-7c15edb1b64b",
   "metadata": {},
   "outputs": [
    {
     "name": "stdout",
     "output_type": "stream",
     "text": [
      " id xcenter ycenter    aperture_sum  \n",
      "      pix     pix                    \n",
      "--- ------- ------- -----------------\n",
      "  1   926.0  2968.0 4443694.623106287\n"
     ]
    }
   ],
   "source": [
    "photometry_table = aperture_photometry(data, aperture)\n",
    "print(photometry_table)"
   ]
  },
  {
   "cell_type": "code",
   "execution_count": 8,
   "id": "9bf7c30c-587f-4ee0-97b0-ee213d9dab7b",
   "metadata": {},
   "outputs": [],
   "source": [
    "position1 = (3425.17, 1840)  # Replace with the actual x and y coordinates of the target star\n",
    "aperture_radius1 = 40.0  # Replace with your preferred aperture radius\n",
    "aperture1 = CircularAperture(position1, r=aperture_radius1)"
   ]
  },
  {
   "cell_type": "code",
   "execution_count": 9,
   "id": "521cd433-743d-4c8c-8d47-6fc48bb220a9",
   "metadata": {},
   "outputs": [
    {
     "name": "stdout",
     "output_type": "stream",
     "text": [
      " id xcenter ycenter    aperture_sum   \n",
      "      pix     pix                     \n",
      "--- ------- ------- ------------------\n",
      "  1 3425.17  1840.0 18832942.134648565\n"
     ]
    }
   ],
   "source": [
    "photometry_table1 = aperture_photometry(data, aperture1)\n",
    "print(photometry_table1)"
   ]
  },
  {
   "cell_type": "code",
   "execution_count": null,
   "id": "95cadc54-e76c-43ea-ba81-058fa6043e7d",
   "metadata": {},
   "outputs": [],
   "source": []
  }
 ],
 "metadata": {
  "kernelspec": {
   "display_name": "Python 3 (ipykernel)",
   "language": "python",
   "name": "python3"
  },
  "language_info": {
   "codemirror_mode": {
    "name": "ipython",
    "version": 3
   },
   "file_extension": ".py",
   "mimetype": "text/x-python",
   "name": "python",
   "nbconvert_exporter": "python",
   "pygments_lexer": "ipython3",
   "version": "3.12.1"
  }
 },
 "nbformat": 4,
 "nbformat_minor": 5
}
